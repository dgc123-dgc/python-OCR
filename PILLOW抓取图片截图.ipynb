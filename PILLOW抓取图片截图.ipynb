{
 "cells": [
  {
   "cell_type": "markdown",
   "metadata": {},
   "source": [
    "# 分时间间隔抓取屏幕"
   ]
  },
  {
   "cell_type": "code",
   "execution_count": 8,
   "metadata": {},
   "outputs": [
    {
     "name": "stdout",
     "output_type": "stream",
     "text": [
      "ready go!\n",
      "go\n"
     ]
    }
   ],
   "source": [
    "import time \n",
    "from PIL import ImageGrab\n",
    "\n",
    "print(\"ready go!\")\n",
    "time.sleep(2)\n",
    "print(\"go\")bhhjb\n",
    "\n",
    "ImageGrab.grab().save(\".\\out\\img_capture.png\")"
   ]
  },
  {
   "cell_type": "code",
   "execution_count": null,
   "metadata": {},
   "outputs": [],
   "source": [
    "\n",
    "\"\"\" 读取图片 \"\"\"\n",
    "def get_file_content(filePath):\n",
    "    with open(filePath, 'rb') as fp:\n",
    "        return fp.read()\n",
    "\n",
    "image = get_file_content('wo.jpg')\n",
    "\n",
    "\"\"\" 调用自定义模板文字识别 \"\"\"\n",
    "client.custom(image);\n",
    "\n",
    "\"\"\" 如果有可选参数 \"\"\"\n",
    "options = {}\n",
    "options[\"templateSign\"] = \"Nsdax2424asaAS791823112\"\n",
    "options[\"classifierId\"] = 31232\n",
    "\n",
    "\"\"\" 带参数调用自定义模板文字识别 \"\"\"\n",
    "client.custom(image, options)\n",
    "\n"
   ]
  },
  {
   "cell_type": "code",
   "execution_count": 1,
   "metadata": {
    "scrolled": true
   },
   "outputs": [
    {
     "name": "stdout",
     "output_type": "stream",
     "text": [
      "sleep 4 s\n",
      "<PIL.Image.Image image mode=RGB size=1102x234 at 0x13B9D7BDD68>\n"
     ]
    }
   ],
   "source": [
    "import time \n",
    "from PIL import ImageGrab\n",
    "\n",
    "print(\"sleep 4 s\")\n",
    "time.sleep(4)\n",
    "# for i in range(3):\n",
    "    \n",
    "img = ImageGrab.grab(bbox=(154,501,1256,735))\n",
    "img.save(\".\\out\\cap1.png\")\n",
    "print(img)"
   ]
  },
  {
   "cell_type": "code",
   "execution_count": 2,
   "metadata": {},
   "outputs": [],
   "source": [
    "img.show()"
   ]
  },
  {
   "cell_type": "code",
   "execution_count": 11,
   "metadata": {},
   "outputs": [
    {
     "name": "stdout",
     "output_type": "stream",
     "text": [
      "Ready! sleep 4 s\n",
      "开始储存第1张照片\n",
      "开始储存第2张照片\n",
      "开始储存第3张照片\n",
      "开始储存第4张照片\n",
      "开始储存第5张照片\n",
      "开始储存第6张照片\n",
      "开始储存第7张照片\n",
      "开始储存第8张照片\n",
      "开始储存第9张照片\n",
      "开始储存第10张照片\n",
      "开始储存第11张照片\n",
      "开始储存第12张照片\n",
      "开始储存第13张照片\n",
      "开始储存第14张照片\n",
      "开始储存第15张照片\n",
      "开始储存第16张照片\n",
      "开始储存第17张照片\n",
      "开始储存第18张照片\n",
      "开始储存第19张照片\n",
      "开始储存第20张照片\n",
      "开始储存第21张照片\n",
      "开始储存第22张照片\n",
      "开始储存第23张照片\n",
      "开始储存第24张照片\n",
      "开始储存第25张照片\n",
      "开始储存第26张照片\n",
      "开始储存第27张照片\n",
      "开始储存第28张照片\n",
      "开始储存第29张照片\n",
      "开始储存第30张照片\n",
      "开始储存第31张照片\n",
      "开始储存第32张照片\n",
      "开始储存第33张照片\n",
      "开始储存第34张照片\n",
      "开始储存第35张照片\n",
      "开始储存第36张照片\n",
      "开始储存第37张照片\n",
      "开始储存第38张照片\n",
      "开始储存第39张照片\n",
      "开始储存第40张照片\n",
      "开始储存第41张照片\n",
      "开始储存第42张照片\n",
      "开始储存第43张照片\n",
      "开始储存第44张照片\n",
      "开始储存第45张照片\n",
      "开始储存第46张照片\n",
      "开始储存第47张照片\n",
      "开始储存第48张照片\n",
      "开始储存第49张照片\n",
      "开始储存第50张照片\n"
     ]
    }
   ],
   "source": [
    "x1 =567\n",
    "y1 = 604\n",
    "x2 = 765\n",
    "y2 = 651\n",
    "\n",
    "import time \n",
    "from PIL import ImageGrab\n",
    "\n",
    "print(\"Ready! sleep 4 s\")\n",
    "for i in range(1,51):\n",
    "    time.sleep(2)\n",
    "    img = ImageGrab.grab(bbox=(x1,y1,x2,y2))\n",
    "    print(\"开始储存第{}张照片\".format(i))\n",
    "    a = \"img\"+str(i)\n",
    "    img.save(\".\\out\\{}.png\".format(a))\n",
    "\n",
    "  "
   ]
  },
  {
   "cell_type": "code",
   "execution_count": 46,
   "metadata": {},
   "outputs": [],
   "source": [
    "import  pytesseract\n",
    "from PIL import Image"
   ]
  },
  {
   "cell_type": "code",
   "execution_count": 47,
   "metadata": {},
   "outputs": [],
   "source": [
    "# im = Image.open(\".\\out\\img1.png\")\n",
    "im = Image.open(r\"C:\\Users\\dgc\\Desktop\\拍价\\out\\test2.png\")"
   ]
  },
  {
   "cell_type": "code",
   "execution_count": 48,
   "metadata": {
    "scrolled": true
   },
   "outputs": [],
   "source": [
    "text = pytesseract.image_to_string(im,lang='eng')"
   ]
  },
  {
   "cell_type": "code",
   "execution_count": 50,
   "metadata": {},
   "outputs": [
    {
     "data": {
      "text/plain": [
       "['', '2019—09—02\\ni [ [n] ', ' 87100']"
      ]
     },
     "execution_count": 50,
     "metadata": {},
     "output_type": "execute_result"
    }
   ],
   "source": [
    "text.split(\":\")"
   ]
  },
  {
   "cell_type": "code",
   "execution_count": 30,
   "metadata": {},
   "outputs": [
    {
     "data": {
      "text/plain": [
       "['51LR OOA Adibthltiie y ie B0 i ht Je',\n",
       " ': 10567',\n",
       " '',\n",
       " 'R i C1%br A #: 258670',\n",
       " '',\n",
       " '#\\\\ I\"EM (6):10:30411:30',\n",
       " '',\n",
       " '1frH~JEﬁ:11:ooﬁ%11§so',\n",
       " '',\n",
       " '_ M\\\\* c \\\\ tril B',\n",
       " '',\n",
       " ' ',\n",
       " ' ',\n",
       " '',\n",
       " 'iL it ial :2010—00—02 11:20:01',\n",
       " 'B i M 52 it i it [x i) : 86400 487000',\n",
       " '',\n",
       " 'mnuswraze. ¥,86, 700',\n",
       " '',\n",
       " 'flca Je 100M s A Xk d']"
      ]
     },
     "execution_count": 30,
     "metadata": {},
     "output_type": "execute_result"
    }
   ],
   "source": [
    "text.split(\"\\n\")"
   ]
  },
  {
   "cell_type": "code",
   "execution_count": null,
   "metadata": {},
   "outputs": [],
   "source": []
  }
 ],
 "metadata": {
  "kernelspec": {
   "display_name": "Python 3",
   "language": "python",
   "name": "python3"
  },
  "language_info": {
   "codemirror_mode": {
    "name": "ipython",
    "version": 3
   },
   "file_extension": ".py",
   "mimetype": "text/x-python",
   "name": "python",
   "nbconvert_exporter": "python",
   "pygments_lexer": "ipython3",
   "version": "3.7.3"
  }
 },
 "nbformat": 4,
 "nbformat_minor": 2
}
